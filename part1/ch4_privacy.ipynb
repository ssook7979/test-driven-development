{
 "cells": [
  {
   "cell_type": "markdown",
   "metadata": {},
   "source": [
    "Now that equals method is created, we no longer have to compare object's field value.\n",
    "=> make amount as private"
   ]
  },
  {
   "cell_type": "markdown",
   "metadata": {},
   "source": [
    "TODO list\n",
    "- [ ] $5 + 10 CHF = $10 if rate is 2:1\n",
    "- [x] $5 * 2 = $10\n",
    "- [ ] Make \"amount\" private\n",
    "- [x] Dollar side effect\n",
    "- [ ] Money rounding\n",
    "- [x] \\_\\_eq\\_\\_\n",
    "- [ ] equal null\n",
    "- [ ] equal object"
   ]
  },
  {
   "cell_type": "markdown",
   "metadata": {},
   "source": [
    "Test code need to be fixed to test equality of times result"
   ]
  },
  {
   "cell_type": "code",
   "execution_count": 2,
   "metadata": {},
   "outputs": [],
   "source": [
    "import unittest\n",
    "\n",
    "class TestMoneyExchange(unittest.TestCase):\n",
    "    def test_multiplication(self):\n",
    "        five = Dollar(5)\n",
    "        product = five.times(2)\n",
    "        self.assertEqual(Dollar(10), product)\n",
    "        product = five.times(3)\n",
    "        self.assertEqual(Dollar(15), product)"
   ]
  },
  {
   "cell_type": "markdown",
   "metadata": {},
   "source": [
    "inline assertions"
   ]
  },
  {
   "cell_type": "code",
   "execution_count": 6,
   "metadata": {},
   "outputs": [
    {
     "name": "stderr",
     "output_type": "stream",
     "text": [
      "test_multiplication (__main__.TestMoneyExchange) ... ok\n",
      "\n",
      "----------------------------------------------------------------------\n",
      "Ran 1 test in 0.001s\n",
      "\n",
      "OK\n"
     ]
    },
    {
     "data": {
      "text/plain": [
       "<unittest.main.TestProgram at 0x10224c0>"
      ]
     },
     "execution_count": 6,
     "metadata": {},
     "output_type": "execute_result"
    }
   ],
   "source": [
    "import unittest\n",
    "\n",
    "class TestMoneyExchange(unittest.TestCase):\n",
    "    def test_multiplication(self):\n",
    "        five = Dollar(5)\n",
    "        self.assertEqual(Dollar(10), five.times(2))\n",
    "        self.assertEqual(Dollar(15), five.times(3))\n",
    "\n",
    "unittest.main(argv=[''], verbosity=2, exit=False)"
   ]
  },
  {
   "cell_type": "markdown",
   "metadata": {},
   "source": [
    "With these changes to the test, Dollar is now the only class using its amount instance variable,\n",
    "so we can make it private."
   ]
  },
  {
   "cell_type": "code",
   "execution_count": 4,
   "metadata": {},
   "outputs": [],
   "source": [
    "class Dollar:\n",
    "    def __init__(self, amount: int):\n",
    "        self._amount = amount\n",
    "\n",
    "    @property\n",
    "    def amount(self):\n",
    "        return self._amount\n",
    "\n",
    "    @amount.setter\n",
    "    def amount(self, amount: int):\n",
    "        self._amount = amount\n",
    "\n",
    "    @amount.deleter\n",
    "    def amount(self):\n",
    "        del self._amount\n",
    "\n",
    "    def times(self, multiplier: int):\n",
    "        return Dollar(self.amount * multiplier)\n",
    "\n",
    "    def __eq__(self, o):\n",
    "        return self._amount == o.amount"
   ]
  },
  {
   "cell_type": "markdown",
   "metadata": {},
   "source": [
    "TODO list\n",
    "- [ ] $5 + 10 CHF = $10 if rate is 2:1\n",
    "- [x] $5 * 2 = $10\n",
    "- [x] Make \"amount\" private\n",
    "- [x] Dollar side effect\n",
    "- [ ] Money rounding\n",
    "- [x] \\_\\_eq\\_\\_\n",
    "- [ ] equal null\n",
    "- [ ] equal object"
   ]
  }
 ],
 "metadata": {
  "kernelspec": {
   "display_name": "Python 3.8.3 32-bit",
   "language": "python",
   "name": "python3"
  },
  "language_info": {
   "codemirror_mode": {
    "name": "ipython",
    "version": 3
   },
   "file_extension": ".py",
   "mimetype": "text/x-python",
   "name": "python",
   "nbconvert_exporter": "python",
   "pygments_lexer": "ipython3",
   "version": "3.8.3"
  },
  "orig_nbformat": 4,
  "vscode": {
   "interpreter": {
    "hash": "939480ed579cbcc9bd95c0bb2f0a271d068ec362d36f1415ed941c7dadb52340"
   }
  }
 },
 "nbformat": 4,
 "nbformat_minor": 2
}
