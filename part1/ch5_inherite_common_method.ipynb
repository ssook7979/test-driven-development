{
 "cells": [
  {
   "cell_type": "markdown",
   "metadata": {},
   "source": [
    "Need of having an object like Dollar, but to represent francs."
   ]
  },
  {
   "cell_type": "code",
   "execution_count": null,
   "metadata": {},
   "outputs": [],
   "source": [
    "TODO list\n",
    "- [ ] $5 + 10 CHF = $10 if rate is 2:1\n",
    "- [x] $5 * 2 = $10\n",
    "- [x] Make \"amount\" private\n",
    "- [x] Dollar side effect\n",
    "- [ ] Money rounding\n",
    "- [x] \\_\\_eq\\_\\_\n",
    "- [ ] equal null\n",
    "- [ ] equal object\n",
    "- [ ] 5 CHF * 2 = 10 CHF"
   ]
  },
  {
   "cell_type": "code",
   "execution_count": 4,
   "metadata": {},
   "outputs": [
    {
     "name": "stderr",
     "output_type": "stream",
     "text": [
      "test_multiplication (__main__.TestFrancClass) ... ok\n",
      "\n",
      "----------------------------------------------------------------------\n",
      "Ran 1 test in 0.001s\n",
      "\n",
      "OK\n"
     ]
    },
    {
     "data": {
      "text/plain": [
       "<unittest.main.TestProgram at 0x6f0c628>"
      ]
     },
     "execution_count": 4,
     "metadata": {},
     "output_type": "execute_result"
    }
   ],
   "source": [
    "import unittest\n",
    "\n",
    "class TestFrancClass(unittest.TestCase):\n",
    "    def test_multiplication(self):\n",
    "        five = Franc(5)\n",
    "        self.assertEqual(Franc(10), five.times(2))\n",
    "        self.assertEqual(Franc(15), five.times(3))\n",
    "\n",
    "unittest.main(argv=[''], verbosity=2, exit=False)"
   ]
  },
  {
   "cell_type": "markdown",
   "metadata": {},
   "source": [
    "copy and paste Dollar class to complete TDD 1 - 3 steps."
   ]
  },
  {
   "cell_type": "code",
   "execution_count": 3,
   "metadata": {},
   "outputs": [],
   "source": [
    "class Franc:\n",
    "    def __init__(self, amount: int):\n",
    "        self._amount = amount\n",
    "\n",
    "    @property\n",
    "    def amount(self):\n",
    "        return self._amount\n",
    "\n",
    "    @amount.setter\n",
    "    def amount(self, amount: int):\n",
    "        self._amount = amount\n",
    "\n",
    "    @amount.deleter\n",
    "    def amount(self):\n",
    "        del self._amount\n",
    "\n",
    "    def times(self, multiplier: int):\n",
    "        return Franc(self.amount * multiplier)\n",
    "\n",
    "    def __eq__(self, o):\n",
    "        return self._amount == o.amount"
   ]
  },
  {
   "cell_type": "markdown",
   "metadata": {},
   "source": [
    "then to remove duplicates add these assignments into TODO list"
   ]
  },
  {
   "cell_type": "markdown",
   "metadata": {},
   "source": [
    "TODO list\n",
    "- [ ] $5 + 10 CHF = $10 if rate is 2:1\n",
    "- [x] $5 * 2 = $10\n",
    "- [x] Make \"amount\" private\n",
    "- [x] Dollar side effect\n",
    "- [ ] Money rounding\n",
    "- [x] \\_\\_eq\\_\\_\n",
    "- [ ] equal null\n",
    "- [ ] equal object\n",
    "- [ ] 5 CHF * 2 = 10 CHF\n",
    "- [ ] Dollar/Franc duplication\n",
    "- [ ] Common `__eq__`\n",
    "- [ ] Common `times`"
   ]
  }
 ],
 "metadata": {
  "kernelspec": {
   "display_name": "Python 3.8.3 32-bit",
   "language": "python",
   "name": "python3"
  },
  "language_info": {
   "codemirror_mode": {
    "name": "ipython",
    "version": 3
   },
   "file_extension": ".py",
   "mimetype": "text/x-python",
   "name": "python",
   "nbconvert_exporter": "python",
   "pygments_lexer": "ipython3",
   "version": "3.8.3"
  },
  "orig_nbformat": 4,
  "vscode": {
   "interpreter": {
    "hash": "939480ed579cbcc9bd95c0bb2f0a271d068ec362d36f1415ed941c7dadb52340"
   }
  }
 },
 "nbformat": 4,
 "nbformat_minor": 2
}
