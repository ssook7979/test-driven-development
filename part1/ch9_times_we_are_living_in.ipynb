{
 "cells": [
  {
   "cell_type": "markdown",
   "metadata": {},
   "source": [
    "TODO list\n",
    "- [ ] $5 + 10 CHF = $10 if rate is 2:1\n",
    "- [x] $5 * 2 = $10\n",
    "- [x] Make \"amount\" private\n",
    "- [x] Dollar side effect\n",
    "- [ ] Money rounding\n",
    "- [x] \\_\\_eq\\_\\_\n",
    "- [ ] equal null\n",
    "- [ ] equal object\n",
    "- [ ] 5 CHF * 2 = 10 CHF\n",
    "- [ ] Dollar/Franc duplication\n",
    "- [x] Common `__eq__`\n",
    "- [ ] Common `times`\n",
    "- [x] Compare Francs with Dollors\n",
    "- [ ] Currency\n",
    "- [ ] Dollar/Franc duplicaton\n",
    "- [ ] Currency?\n",
    "- [ ] Delete testFrancMultiplication?"
   ]
  },
  {
   "cell_type": "markdown",
   "metadata": {},
   "source": [
    "introduce the notion of currency"
   ]
  },
  {
   "cell_type": "code",
   "execution_count": 1,
   "metadata": {},
   "outputs": [],
   "source": [
    "import unittest\n",
    "\n",
    "class TestMoneyExchange(unittest.TestCase):\n",
    "    def test_currency(self):\n",
    "        self.assertEqual(\"USD\", Money.dollar(1).currency())\n",
    "        self.assertEqual(\"CHF\", Money.franc(1).currency())"
   ]
  },
  {
   "cell_type": "markdown",
   "metadata": {},
   "source": [
    "first, declare `currency` abstract method in Money class"
   ]
  },
  {
   "cell_type": "code",
   "execution_count": 2,
   "metadata": {},
   "outputs": [],
   "source": [
    "import abc\n",
    "\n",
    "class Money(abc.ABC):\n",
    "    def __init__(self, amount):\n",
    "        self._amount = amount\n",
    "\n",
    "    @property\n",
    "    def amount(self):\n",
    "        return self._amount\n",
    "\n",
    "    @property\n",
    "    def currency(self):\n",
    "        return self._currency\n",
    "\n",
    "    @amount.setter\n",
    "    def amount(self, amount: int):\n",
    "        self._amount = amount\n",
    "\n",
    "    @amount.deleter\n",
    "    def amount(self):\n",
    "        del self._amount\n",
    "\n",
    "    def __eq__(self, o):\n",
    "        return self._amount == o.amount \\\n",
    "            and type(self) == type(o)\n",
    "\n",
    "    @staticmethod\n",
    "    def dollar(amount: int):\n",
    "        return Dollar(amount)\n",
    "\n",
    "    @staticmethod\n",
    "    def franc(amount: int):\n",
    "        return Franc(amount)\n",
    "    \n",
    "    @abc.abstractmethod\n",
    "    def times(self, multiplier): pass\n",
    "    \n",
    "    @abc.abstractmethod\n",
    "    def currency(self): pass"
   ]
  },
  {
   "cell_type": "markdown",
   "metadata": {},
   "source": [
    "by creating currency field and setting values at init, currency method can be common method."
   ]
  },
  {
   "cell_type": "code",
   "execution_count": 3,
   "metadata": {},
   "outputs": [],
   "source": [
    "import abc\n",
    "\n",
    "class Money(abc.ABC):\n",
    "    def __init__(self, amount):\n",
    "        self._amount = amount\n",
    "\n",
    "    @property\n",
    "    def amount(self):\n",
    "        return self._amount\n",
    "\n",
    "    @property\n",
    "    def currency(self):\n",
    "        return self._currency\n",
    "\n",
    "    @amount.setter\n",
    "    def amount(self, amount: int):\n",
    "        self._amount = amount\n",
    "\n",
    "    @amount.deleter\n",
    "    def amount(self):\n",
    "        del self._amount\n",
    "\n",
    "    def __eq__(self, o):\n",
    "        return self._amount == o.amount \\\n",
    "            and type(self) == type(o)\n",
    "\n",
    "    @staticmethod\n",
    "    def dollar(amount: int):\n",
    "        return Dollar(amount)\n",
    "\n",
    "    @staticmethod\n",
    "    def franc(amount: int):\n",
    "        return Franc(amount)\n",
    "    \n",
    "    @abc.abstractmethod\n",
    "    def times(self, multiplier): pass\n",
    "    \n",
    "    @currency.getter\n",
    "    def currency(self):\n",
    "        return self._currency\n",
    "\n",
    "class Dollar(Money):\n",
    "    def __init__(self, amount):\n",
    "        super.__init__(amount)\n",
    "        self._currency = \"USD\"\n",
    "\n",
    "    def times(self, multiplier: int) -> Money:\n",
    "        return Dollar(self.amount * multiplier)\n",
    "\n",
    "class Franc(Money):\n",
    "    def __init__(self, amount):\n",
    "        super.__init__(amount)\n",
    "        self._currency = \"CHF\"\n",
    "\n",
    "    def times(self, multiplier: int) -> Money:\n",
    "        return Franc(self.amount * multiplier)"
   ]
  },
  {
   "cell_type": "markdown",
   "metadata": {},
   "source": [
    "move currency values to static factory method"
   ]
  },
  {
   "cell_type": "code",
   "execution_count": 4,
   "metadata": {},
   "outputs": [],
   "source": [
    "import abc\n",
    "\n",
    "class Money(abc.ABC):\n",
    "    def __init__(self, amount, currency):\n",
    "        self._amount = amount\n",
    "        self._currency = currency\n",
    "\n",
    "    @property\n",
    "    def amount(self):\n",
    "        return self._amount\n",
    "\n",
    "    @property\n",
    "    def currency(self):\n",
    "        return self._currency\n",
    "\n",
    "    @amount.setter\n",
    "    def amount(self, amount: int):\n",
    "        self._amount = amount\n",
    "\n",
    "    @amount.deleter\n",
    "    def amount(self):\n",
    "        del self._amount\n",
    "\n",
    "    def __eq__(self, o):\n",
    "        return self._amount == o.amount \\\n",
    "            and type(self) == type(o)\n",
    "\n",
    "    @staticmethod\n",
    "    def dollar(amount: int):\n",
    "        return Dollar(amount, \"USD\")\n",
    "\n",
    "    @staticmethod\n",
    "    def franc(amount: int):\n",
    "        return Franc(amount, \"CHF\")\n",
    "    \n",
    "    @abc.abstractmethod\n",
    "    def times(self, multiplier): pass\n",
    "    \n",
    "    @currency.getter\n",
    "    def currency(self):\n",
    "        return self._currency\n",
    "\n",
    "class Dollar(Money):\n",
    "    def times(self, multiplier: int) -> Money:\n",
    "        return Money.dollar(self.amount * multiplier)\n",
    "\n",
    "class Franc(Money):\n",
    "    def times(self, multiplier: int) -> Money:\n",
    "        return Money.franc(self.amount * multiplier)"
   ]
  },
  {
   "cell_type": "code",
   "execution_count": 7,
   "metadata": {},
   "outputs": [
    {
     "name": "stderr",
     "output_type": "stream",
     "text": [
      "test_currency (__main__.TestMoneyExchange) ... ok\n",
      "test_equality (__main__.TestMoneyExchange) ... ok\n",
      "test_multiplication (__main__.TestMoneyExchange) ... ok\n",
      "\n",
      "----------------------------------------------------------------------\n",
      "Ran 3 tests in 0.002s\n",
      "\n",
      "OK\n"
     ]
    },
    {
     "data": {
      "text/plain": [
       "<unittest.main.TestProgram at 0x6459610>"
      ]
     },
     "execution_count": 7,
     "metadata": {},
     "output_type": "execute_result"
    }
   ],
   "source": [
    "import unittest\n",
    "\n",
    "class TestMoneyExchange(unittest.TestCase):\n",
    "    def test_multiplication(self):\n",
    "        five: Money = Money.dollar(5)\n",
    "        self.assertEqual(Dollar(10, \"USD\"), five.times(2))\n",
    "        self.assertEqual(Dollar(15, \"USD\"), five.times(3))\n",
    "\n",
    "    def test_currency(self):\n",
    "        self.assertEqual(\"USD\", Money.dollar(1).currency)\n",
    "        self.assertEqual(\"CHF\", Money.franc(1).currency)\n",
    "    \n",
    "    def test_equality(self):\n",
    "        self.assertTrue(Dollar(5, \"USD\") == Dollar(5, \"USD\"))\n",
    "        self.assertFalse(Dollar(5, \"USD\") == Dollar(6, \"USD\"))\n",
    "        self.assertTrue(Franc(5, \"CHF\") == Franc(5, \"CHF\"))\n",
    "        self.assertFalse(Franc(5, \"CHF\") == Franc(6, \"CHF\"))\n",
    "        self.assertFalse(Franc(5, \"CHF\") == Dollar(5, \"USD\"))\n",
    "\n",
    "unittest.main(argv=[''], verbosity=2, exit=False)"
   ]
  },
  {
   "cell_type": "markdown",
   "metadata": {},
   "source": [
    "TODO list\n",
    "- [ ] $5 + 10 CHF = $10 if rate is 2:1\n",
    "- [x] $5 * 2 = $10\n",
    "- [x] Make \"amount\" private\n",
    "- [x] Dollar side effect\n",
    "- [ ] Money rounding\n",
    "- [x] `__eq__`\n",
    "- [ ] equal null\n",
    "- [ ] equal object\n",
    "- [x] 5 CHF * 2 = 10 CHF\n",
    "- [ ] Dollar/Franc duplication\n",
    "- [x] Common `__eq__`\n",
    "- [ ] Common `times`\n",
    "- [x] Compare Francs with Dollors\n",
    "- [x] Currency\n",
    "- [ ] Dollar/Franc duplicaton"
   ]
  }
 ],
 "metadata": {
  "kernelspec": {
   "display_name": "Python 3.8.3 32-bit",
   "language": "python",
   "name": "python3"
  },
  "language_info": {
   "codemirror_mode": {
    "name": "ipython",
    "version": 3
   },
   "file_extension": ".py",
   "mimetype": "text/x-python",
   "name": "python",
   "nbconvert_exporter": "python",
   "pygments_lexer": "ipython3",
   "version": "3.8.3"
  },
  "orig_nbformat": 4,
  "vscode": {
   "interpreter": {
    "hash": "939480ed579cbcc9bd95c0bb2f0a271d068ec362d36f1415ed941c7dadb52340"
   }
  }
 },
 "nbformat": 4,
 "nbformat_minor": 2
}
