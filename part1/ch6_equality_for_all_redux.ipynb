{
 "cells": [
  {
   "cell_type": "markdown",
   "metadata": {},
   "source": [
    "Base class to capture the common `__eq__` and `times`"
   ]
  },
  {
   "cell_type": "code",
   "execution_count": 14,
   "metadata": {},
   "outputs": [],
   "source": [
    "class Money:\n",
    "    def __init__(self, amount):\n",
    "        self._amount = amount\n",
    "\n",
    "    @property\n",
    "    def amount(self):\n",
    "        return self._amount\n",
    "\n",
    "    @amount.setter\n",
    "    def amount(self, amount: int):\n",
    "        self._amount = amount\n",
    "\n",
    "    @amount.deleter\n",
    "    def amount(self):\n",
    "        del self._amount\n",
    "\n",
    "    def __eq__(self, o):\n",
    "        return self._amount == o.amount"
   ]
  },
  {
   "cell_type": "code",
   "execution_count": 15,
   "metadata": {},
   "outputs": [],
   "source": [
    "class Dollar(Money):\n",
    "    pass\n",
    "\n",
    "class Franc(Money): pass"
   ]
  },
  {
   "cell_type": "markdown",
   "metadata": {},
   "source": [
    "copy and paste prev testcode"
   ]
  },
  {
   "cell_type": "code",
   "execution_count": 16,
   "metadata": {},
   "outputs": [
    {
     "name": "stderr",
     "output_type": "stream",
     "text": [
      "test_equality (__main__.TestMoney) ... ok\n",
      "\n",
      "----------------------------------------------------------------------\n",
      "Ran 1 test in 0.001s\n",
      "\n",
      "OK\n"
     ]
    },
    {
     "data": {
      "text/plain": [
       "<unittest.main.TestProgram at 0x63e36b8>"
      ]
     },
     "execution_count": 16,
     "metadata": {},
     "output_type": "execute_result"
    }
   ],
   "source": [
    "import unittest\n",
    "\n",
    "class TestMoney(unittest.TestCase):\n",
    "    def test_equality(self):\n",
    "        self.assertTrue(Dollar(5) == Dollar(5))\n",
    "        self.assertFalse(Dollar(5) == Dollar(6))\n",
    "        self.assertTrue(Franc(5) == Franc(5))\n",
    "        self.assertFalse(Franc(5) == Franc(6))\n",
    "\n",
    "unittest.main(argv=[''], verbosity=2, exit=False)"
   ]
  },
  {
   "cell_type": "markdown",
   "metadata": {},
   "source": [
    "BUT, what if Dollar is compared to Franc?"
   ]
  }
 ],
 "metadata": {
  "kernelspec": {
   "display_name": "Python 3.8.3 32-bit",
   "language": "python",
   "name": "python3"
  },
  "language_info": {
   "codemirror_mode": {
    "name": "ipython",
    "version": 3
   },
   "file_extension": ".py",
   "mimetype": "text/x-python",
   "name": "python",
   "nbconvert_exporter": "python",
   "pygments_lexer": "ipython3",
   "version": "3.8.3"
  },
  "orig_nbformat": 4,
  "vscode": {
   "interpreter": {
    "hash": "939480ed579cbcc9bd95c0bb2f0a271d068ec362d36f1415ed941c7dadb52340"
   }
  }
 },
 "nbformat": 4,
 "nbformat_minor": 2
}
