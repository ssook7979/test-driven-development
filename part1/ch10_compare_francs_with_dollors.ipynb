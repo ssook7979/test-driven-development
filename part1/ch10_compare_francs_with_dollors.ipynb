{
 "cells": [
  {
   "cell_type": "markdown",
   "metadata": {},
   "source": [
    "- make `times` to common method by returning Money type\n",
    "- make `__eq__` to compare currency value instead of type"
   ]
  },
  {
   "cell_type": "code",
   "execution_count": 5,
   "metadata": {},
   "outputs": [],
   "source": [
    "import abc\n",
    "\n",
    "class Money:\n",
    "    def __init__(self, amount, currency):\n",
    "        self._amount = amount\n",
    "        self._currency = currency\n",
    "\n",
    "    @property\n",
    "    def amount(self):\n",
    "        return self._amount\n",
    "\n",
    "    @property\n",
    "    def currency(self):\n",
    "        return self._currency\n",
    "\n",
    "    @amount.setter\n",
    "    def amount(self, amount: int):\n",
    "        self._amount = amount\n",
    "\n",
    "    @amount.deleter\n",
    "    def amount(self):\n",
    "        del self._amount\n",
    "\n",
    "    def __eq__(self, o):\n",
    "        return self._amount == o.amount \\\n",
    "            and self.currency == o.currency\n",
    "\n",
    "    @staticmethod\n",
    "    def dollar(amount: int):\n",
    "        return Dollar(amount, \"USD\")\n",
    "\n",
    "    @staticmethod\n",
    "    def franc(amount: int):\n",
    "        return Franc(amount, \"CHF\")\n",
    "    \n",
    "    def times(self, multiplier: int):\n",
    "        return Money(self.amount * multiplier, self.currency)\n",
    "    \n",
    "    @currency.getter\n",
    "    def currency(self):\n",
    "        return self._currency\n",
    "\n",
    "class Dollar(Money): pass\n",
    "    \n",
    "\n",
    "class Franc(Money): pass"
   ]
  },
  {
   "cell_type": "code",
   "execution_count": 6,
   "metadata": {},
   "outputs": [
    {
     "name": "stderr",
     "output_type": "stream",
     "text": [
      "test_different_class_equality (__main__.TestMoneyExchange) ... ok\n",
      "\n",
      "----------------------------------------------------------------------\n",
      "Ran 1 test in 0.001s\n",
      "\n",
      "OK\n"
     ]
    },
    {
     "data": {
      "text/plain": [
       "<unittest.main.TestProgram at 0x64e2550>"
      ]
     },
     "execution_count": 6,
     "metadata": {},
     "output_type": "execute_result"
    }
   ],
   "source": [
    "import unittest\n",
    "\n",
    "class TestMoneyExchange(unittest.TestCase):\n",
    "    def test_different_class_equality(self):\n",
    "        self.assertTrue(Money(10, \"CHF\") == Franc(10, \"CHF\"))\n",
    "\n",
    "unittest.main(argv=[''], verbosity=2, exit=False)"
   ]
  },
  {
   "cell_type": "markdown",
   "metadata": {},
   "source": [
    "TODO list\n",
    "- [ ] $5 + 10 CHF = $10 if rate is 2:1\n",
    "- [x] $5 * 2 = $10\n",
    "- [x] Make \"amount\" private\n",
    "- [x] Dollar side effect\n",
    "- [ ] Money rounding\n",
    "- [x] `__eq__`\n",
    "- [ ] equal null\n",
    "- [ ] equal object\n",
    "- [x] 5 CHF * 2 = 10 CHF\n",
    "- [ ] Dollar/Franc duplication\n",
    "- [x] Common `__eq__`\n",
    "- [x] Common `times`\n",
    "- [x] Compare Francs with Dollors\n",
    "- [x] Currency\n",
    "- [ ] Dollar/Franc duplicaton\n",
    "- [ ] Delete testFrancMultiplication?"
   ]
  },
  {
   "cell_type": "markdown",
   "metadata": {},
   "source": [
    "Review\n",
    "- common `times` method, replacing constants with variables\n",
    "- return Money instead of subclasses and pass the test"
   ]
  }
 ],
 "metadata": {
  "kernelspec": {
   "display_name": "Python 3.8.3 32-bit",
   "language": "python",
   "name": "python3"
  },
  "language_info": {
   "codemirror_mode": {
    "name": "ipython",
    "version": 3
   },
   "file_extension": ".py",
   "mimetype": "text/x-python",
   "name": "python",
   "nbconvert_exporter": "python",
   "pygments_lexer": "ipython3",
   "version": "3.8.3"
  },
  "orig_nbformat": 4,
  "vscode": {
   "interpreter": {
    "hash": "939480ed579cbcc9bd95c0bb2f0a271d068ec362d36f1415ed941c7dadb52340"
   }
  }
 },
 "nbformat": 4,
 "nbformat_minor": 2
}
