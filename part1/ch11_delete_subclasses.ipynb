{
 "cells": [
  {
   "cell_type": "markdown",
   "metadata": {},
   "source": [
    "delete subclasses"
   ]
  },
  {
   "cell_type": "code",
   "execution_count": 1,
   "metadata": {},
   "outputs": [],
   "source": [
    "import abc\n",
    "\n",
    "class Money:\n",
    "    def __init__(self, amount, currency):\n",
    "        self._amount = amount\n",
    "        self._currency = currency\n",
    "\n",
    "    @property\n",
    "    def amount(self):\n",
    "        return self._amount\n",
    "\n",
    "    @property\n",
    "    def currency(self):\n",
    "        return self._currency\n",
    "\n",
    "    @amount.setter\n",
    "    def amount(self, amount: int):\n",
    "        self._amount = amount\n",
    "\n",
    "    @amount.deleter\n",
    "    def amount(self):\n",
    "        del self._amount\n",
    "\n",
    "    def __eq__(self, o):\n",
    "        return self._amount == o.amount \\\n",
    "            and self.currency == o.currency\n",
    "\n",
    "    @staticmethod\n",
    "    def dollar(amount: int):\n",
    "        return Money(amount, \"USD\")\n",
    "\n",
    "    @staticmethod\n",
    "    def franc(amount: int):\n",
    "        return Money(amount, \"CHF\")\n",
    "    \n",
    "    def times(self, multiplier: int):\n",
    "        return Money(self.amount * multiplier, self.currency)\n",
    "    \n",
    "    @currency.getter\n",
    "    def currency(self):\n",
    "        return self._currency"
   ]
  },
  {
   "cell_type": "code",
   "execution_count": 2,
   "metadata": {},
   "outputs": [
    {
     "name": "stderr",
     "output_type": "stream",
     "text": [
      "test_currency (__main__.TestMoneyExchange) ... ok\n",
      "test_different_class_equality (__main__.TestMoneyExchange) ... ok\n",
      "test_equality (__main__.TestMoneyExchange) ... ok\n",
      "test_multiplication (__main__.TestMoneyExchange) ... ok\n",
      "\n",
      "----------------------------------------------------------------------\n",
      "Ran 4 tests in 0.003s\n",
      "\n",
      "OK\n"
     ]
    },
    {
     "data": {
      "text/plain": [
       "<unittest.main.TestProgram at 0x507e358>"
      ]
     },
     "execution_count": 2,
     "metadata": {},
     "output_type": "execute_result"
    }
   ],
   "source": [
    "import unittest\n",
    "\n",
    "class TestMoneyExchange(unittest.TestCase):\n",
    "    def test_multiplication(self):\n",
    "        five: Money = Money.dollar(5)\n",
    "        self.assertEqual(Money.dollar(10), five.times(2))\n",
    "        self.assertEqual(Money.dollar(15), five.times(3))\n",
    "\n",
    "    def test_currency(self):\n",
    "        self.assertEqual(\"USD\", Money.dollar(1).currency)\n",
    "        self.assertEqual(\"CHF\", Money.franc(1).currency)\n",
    "    \n",
    "    def test_equality(self):\n",
    "        self.assertTrue(Money.dollar(5) == Money.dollar(5))\n",
    "        self.assertFalse(Money.dollar(5) == Money.dollar(6))\n",
    "        self.assertTrue(Money.franc(5) == Money.franc(5))\n",
    "        self.assertFalse(Money.franc(5) == Money.franc(6))\n",
    "        self.assertFalse(Money.franc(5) == Money.dollar(5))\n",
    "\n",
    "    def test_different_class_equality(self):\n",
    "        self.assertTrue(Money.franc(10) == Money.franc(10))\n",
    "\n",
    "unittest.main(argv=[''], verbosity=2, exit=False)"
   ]
  },
  {
   "cell_type": "markdown",
   "metadata": {},
   "source": [
    "TODO list\n",
    "- [ ] $5 + 10 CHF = $10 if rate is 2:1\n",
    "- [x] $5 * 2 = $10\n",
    "- [x] Make \"amount\" private\n",
    "- [x] Dollar side effect\n",
    "- [ ] Money rounding\n",
    "- [x] `__eq__`\n",
    "- [ ] equal null\n",
    "- [ ] equal object\n",
    "- [x] 5 CHF * 2 = 10 CHF\n",
    "- [x] Dollar/Franc duplication\n",
    "- [x] Common `__eq__`\n",
    "- [x] Common `times`\n",
    "- [x] Compare Francs with Dollors\n",
    "- [x] Currency\n",
    "- [x] Delete testFrancMultiplication?"
   ]
  }
 ],
 "metadata": {
  "kernelspec": {
   "display_name": "Python 3.8.3 32-bit",
   "language": "python",
   "name": "python3"
  },
  "language_info": {
   "codemirror_mode": {
    "name": "ipython",
    "version": 3
   },
   "file_extension": ".py",
   "mimetype": "text/x-python",
   "name": "python",
   "nbconvert_exporter": "python",
   "pygments_lexer": "ipython3",
   "version": "3.8.3"
  },
  "orig_nbformat": 4,
  "vscode": {
   "interpreter": {
    "hash": "939480ed579cbcc9bd95c0bb2f0a271d068ec362d36f1415ed941c7dadb52340"
   }
  }
 },
 "nbformat": 4,
 "nbformat_minor": 2
}
