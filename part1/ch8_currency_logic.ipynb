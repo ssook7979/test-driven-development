{
 "cells": [
  {
   "cell_type": "markdown",
   "metadata": {},
   "source": [
    "TODO list\n",
    "- [ ] $5 + 10 CHF = $10 if rate is 2:1\n",
    "- [x] $5 * 2 = $10\n",
    "- [x] Make \"amount\" private\n",
    "- [x] Dollar side effect\n",
    "- [ ] Money rounding\n",
    "- [x] \\_\\_eq\\_\\_\n",
    "- [ ] equal null\n",
    "- [ ] equal object\n",
    "- [ ] 5 CHF * 2 = 10 CHF\n",
    "- [ ] Dollar/Franc duplication\n",
    "- [ ] Common `__eq__`\n",
    "- [ ] Common `times`\n",
    "- [x] Compare Francs with Dollors\n",
    "- [ ] Currency"
   ]
  },
  {
   "cell_type": "markdown",
   "metadata": {},
   "source": [
    "add `times` method and to return parent type because `times` method shares strikingly same code."
   ]
  },
  {
   "cell_type": "code",
   "execution_count": 18,
   "metadata": {},
   "outputs": [],
   "source": [
    "class Money:\n",
    "    def __init__(self, amount):\n",
    "        self._amount = amount\n",
    "\n",
    "    @property\n",
    "    def amount(self):\n",
    "        return self._amount\n",
    "\n",
    "    @amount.setter\n",
    "    def amount(self, amount: int):\n",
    "        self._amount = amount\n",
    "\n",
    "    @amount.deleter\n",
    "    def amount(self):\n",
    "        del self._amount\n",
    "\n",
    "    def __eq__(self, o):\n",
    "        return self._amount == o.amount \\\n",
    "            and type(self) == type(o)\n",
    "\n",
    "class Dollar(Money):  \n",
    "    def times(self, multiplier: int) -> Money:\n",
    "        return Dollar(self.amount * multiplier)\n",
    "\n",
    "class Franc(Money): \n",
    "    def times(self, multiplier: int) -> Money:\n",
    "        return Franc(self.amount * multiplier)"
   ]
  },
  {
   "cell_type": "markdown",
   "metadata": {},
   "source": [
    "Use factory method to return subclass type and remove the subclasses references."
   ]
  },
  {
   "cell_type": "code",
   "execution_count": 19,
   "metadata": {},
   "outputs": [],
   "source": [
    "class Money:\n",
    "    def __init__(self, amount):\n",
    "        self._amount = amount\n",
    "\n",
    "    @property\n",
    "    def amount(self):\n",
    "        return self._amount\n",
    "\n",
    "    @amount.setter\n",
    "    def amount(self, amount: int):\n",
    "        self._amount = amount\n",
    "\n",
    "    @amount.deleter\n",
    "    def amount(self):\n",
    "        del self._amount\n",
    "\n",
    "    def __eq__(self, o):\n",
    "        return self._amount == o.amount \\\n",
    "            and type(self) == type(o)\n",
    "\n",
    "    @staticmethod\n",
    "    def dollar(amount: int):\n",
    "        return Dollar(amount)\n",
    "\n",
    "    @staticmethod\n",
    "    def franc(amount: int):\n",
    "        return Franc(amount)\n",
    "\n",
    "class Dollar(Money):  \n",
    "    def times(self, multiplier: int) -> Money:\n",
    "        return Dollar(self.amount * multiplier)\n",
    "\n",
    "class Franc(Money): \n",
    "    def times(self, multiplier: int) -> Money:\n",
    "        return Franc(self.amount * multiplier)"
   ]
  },
  {
   "cell_type": "code",
   "execution_count": 20,
   "metadata": {},
   "outputs": [
    {
     "name": "stderr",
     "output_type": "stream",
     "text": [
      "test_multiplication (__main__.TestMoneyExchange) ... ok\n",
      "\n",
      "----------------------------------------------------------------------\n",
      "Ran 1 test in 0.001s\n",
      "\n",
      "OK\n"
     ]
    },
    {
     "data": {
      "text/plain": [
       "<unittest.main.TestProgram at 0x16e1658>"
      ]
     },
     "execution_count": 20,
     "metadata": {},
     "output_type": "execute_result"
    }
   ],
   "source": [
    "import unittest\n",
    "\n",
    "class TestMoneyExchange(unittest.TestCase):\n",
    "    def test_multiplication(self):\n",
    "        five: Money = Money.dollar(5)\n",
    "        self.assertEqual(Dollar(10), five.times(2))\n",
    "        self.assertEqual(Dollar(15), five.times(3))\n",
    "\n",
    "unittest.main(argv=[''], verbosity=2, exit=False)"
   ]
  },
  {
   "cell_type": "markdown",
   "metadata": {},
   "source": [
    "add abstract method `times` in Money class"
   ]
  },
  {
   "cell_type": "code",
   "execution_count": 21,
   "metadata": {},
   "outputs": [],
   "source": [
    "import abc\n",
    "\n",
    "class Money(abc.ABC):\n",
    "    def __init__(self, amount):\n",
    "        self._amount = amount\n",
    "\n",
    "    @property\n",
    "    def amount(self):\n",
    "        return self._amount\n",
    "\n",
    "    @amount.setter\n",
    "    def amount(self, amount: int):\n",
    "        self._amount = amount\n",
    "\n",
    "    @amount.deleter\n",
    "    def amount(self):\n",
    "        del self._amount\n",
    "\n",
    "    def __eq__(self, o):\n",
    "        return self._amount == o.amount \\\n",
    "            and type(self) == type(o)\n",
    "\n",
    "    @staticmethod\n",
    "    def dollar(amount: int):\n",
    "        return Dollar(amount)\n",
    "\n",
    "    @staticmethod\n",
    "    def franc(amount: int):\n",
    "        return Franc(amount)\n",
    "    \n",
    "    @abc.abstractmethod\n",
    "    def times(self, multiplier): pass\n",
    "\n",
    "\n",
    "class Dollar(Money):  \n",
    "    def times(self, multiplier: int) -> Money:\n",
    "        return Dollar(self.amount * multiplier)\n",
    "\n",
    "class Franc(Money): \n",
    "    def times(self, multiplier: int) -> Money:\n",
    "        return Franc(self.amount * multiplier)"
   ]
  },
  {
   "cell_type": "code",
   "execution_count": 22,
   "metadata": {},
   "outputs": [
    {
     "name": "stderr",
     "output_type": "stream",
     "text": [
      "test_equality (__main__.TestMoneyExchange) ... ok\n",
      "test_multiplication (__main__.TestMoneyExchange) ... ok\n",
      "\n",
      "----------------------------------------------------------------------\n",
      "Ran 2 tests in 0.002s\n",
      "\n",
      "OK\n"
     ]
    },
    {
     "data": {
      "text/plain": [
       "<unittest.main.TestProgram at 0x16ec1f0>"
      ]
     },
     "execution_count": 22,
     "metadata": {},
     "output_type": "execute_result"
    }
   ],
   "source": [
    "import unittest\n",
    "\n",
    "class TestMoneyExchange(unittest.TestCase):\n",
    "    def test_equality(self):\n",
    "        self.assertTrue(Dollar(5) == Dollar(5))\n",
    "        self.assertFalse(Dollar(5) == Dollar(6))\n",
    "        self.assertTrue(Franc(5) == Franc(5))\n",
    "        self.assertFalse(Franc(5) == Franc(6))\n",
    "        self.assertFalse(Franc(5) == Dollar(5))\n",
    "    \n",
    "    def test_multiplication(self):\n",
    "        five: Money = Money.dollar(5)\n",
    "        self.assertEqual(Dollar(10), five.times(2))\n",
    "        self.assertEqual(Dollar(15), five.times(3))\n",
    "\n",
    "unittest.main(argv=[''], verbosity=2, exit=False)"
   ]
  },
  {
   "cell_type": "markdown",
   "metadata": {},
   "source": [
    "How to remove duplication of `times` method"
   ]
  },
  {
   "cell_type": "markdown",
   "metadata": {},
   "source": [
    "TODO list\n",
    "- [ ] $5 + 10 CHF = $10 if rate is 2:1\n",
    "- [x] $5 * 2 = $10\n",
    "- [x] Make \"amount\" private\n",
    "- [x] Dollar side effect\n",
    "- [ ] Money rounding\n",
    "- [x] \\_\\_eq\\_\\_\n",
    "- [ ] equal null\n",
    "- [ ] equal object\n",
    "- [ ] 5 CHF * 2 = 10 CHF\n",
    "- [ ] Dollar/Franc duplication\n",
    "- [ ] Common `__eq__`\n",
    "- [ ] Common `times`\n",
    "- [x] Compare Francs with Dollors\n",
    "- [ ] Currency\n",
    "- [ ] Dollar/Franc duplicaton"
   ]
  }
 ],
 "metadata": {
  "kernelspec": {
   "display_name": "Python 3.8.3 32-bit",
   "language": "python",
   "name": "python3"
  },
  "language_info": {
   "codemirror_mode": {
    "name": "ipython",
    "version": 3
   },
   "file_extension": ".py",
   "mimetype": "text/x-python",
   "name": "python",
   "nbconvert_exporter": "python",
   "pygments_lexer": "ipython3",
   "version": "3.8.3"
  },
  "orig_nbformat": 4,
  "vscode": {
   "interpreter": {
    "hash": "939480ed579cbcc9bd95c0bb2f0a271d068ec362d36f1415ed941c7dadb52340"
   }
  }
 },
 "nbformat": 4,
 "nbformat_minor": 2
}
