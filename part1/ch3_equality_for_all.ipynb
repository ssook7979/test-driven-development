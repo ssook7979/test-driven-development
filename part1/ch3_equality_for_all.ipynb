{
 "cells": [
  {
   "cell_type": "markdown",
   "metadata": {},
   "source": [
    "Make `Dollor` class as **Value Object**.\n",
    "\n",
    "One of the constraints on Value Objects is that the values of the instance variables of\n",
    "the object never change once they have been set in the constructor.\n",
    "\n",
    "you don't have to worry about aliasing\n",
    "problems. "
   ]
  },
  {
   "cell_type": "markdown",
   "metadata": {},
   "source": [
    "TODO list\n",
    "- [ ] $5 + 10 CHF = $10 if rate is 2:1\n",
    "- [x] $5 * 2 = $10\n",
    "- [ ] Make \"amount\" private\n",
    "- [x] Dollar side effect\n",
    "- [ ] Money rounding\n",
    "- [ ] \\_\\_eq\\_\\_"
   ]
  },
  {
   "cell_type": "code",
   "execution_count": 4,
   "metadata": {},
   "outputs": [
    {
     "name": "stderr",
     "output_type": "stream",
     "text": [
      "test_equality (__main__.TestMoneyExchange) ... ok\n",
      "\n",
      "----------------------------------------------------------------------\n",
      "Ran 1 test in 0.002s\n",
      "\n",
      "OK\n"
     ]
    },
    {
     "data": {
      "text/plain": [
       "<unittest.main.TestProgram at 0x6406e98>"
      ]
     },
     "execution_count": 4,
     "metadata": {},
     "output_type": "execute_result"
    }
   ],
   "source": [
    "import unittest\n",
    "\n",
    "class TestMoneyExchange(unittest.TestCase):\n",
    "    def test_equality(self):\n",
    "        self.assertTrue(Dollar(5) == Dollar(5))\n",
    "\n",
    "unittest.main(argv=[''], verbosity=2, exit=False)"
   ]
  },
  {
   "cell_type": "code",
   "execution_count": 2,
   "metadata": {},
   "outputs": [],
   "source": [
    "class Dollar:\n",
    "    def __init__(self, amount: int):\n",
    "        self.amount = amount\n",
    "\n",
    "    def times(self, multiplier: int):\n",
    "        return Dollar(self.amount * multiplier)\n",
    "\n",
    "    def __eq__(self, o):\n",
    "        return True"
   ]
  },
  {
   "cell_type": "code",
   "execution_count": 7,
   "metadata": {},
   "outputs": [
    {
     "name": "stderr",
     "output_type": "stream",
     "text": [
      "test_equality (__main__.TestMoneyExchange) ... ok\n",
      "\n",
      "----------------------------------------------------------------------\n",
      "Ran 1 test in 0.001s\n",
      "\n",
      "OK\n"
     ]
    },
    {
     "data": {
      "text/plain": [
       "<unittest.main.TestProgram at 0xc8fd60>"
      ]
     },
     "execution_count": 7,
     "metadata": {},
     "output_type": "execute_result"
    }
   ],
   "source": [
    "import unittest\n",
    "\n",
    "class TestMoneyExchange(unittest.TestCase):\n",
    "    def test_equality(self):\n",
    "        self.assertTrue(Dollar(5) == Dollar(5))\n",
    "        self.assertFalse(Dollar(5) == Dollar(6))\n",
    "\n",
    "unittest.main(argv=[''], verbosity=2, exit=False)"
   ]
  },
  {
   "cell_type": "markdown",
   "metadata": {},
   "source": [
    "substitute hard coded values with variables and check if the test succeeds"
   ]
  },
  {
   "cell_type": "code",
   "execution_count": 6,
   "metadata": {},
   "outputs": [],
   "source": [
    "class Dollar:\n",
    "    def __init__(self, amount: int):\n",
    "        self.amount = amount\n",
    "\n",
    "    def times(self, multiplier: int):\n",
    "        return Dollar(self.amount * multiplier)\n",
    "\n",
    "    def __eq__(self, o):\n",
    "        return self.amount == o.amount"
   ]
  },
  {
   "cell_type": "markdown",
   "metadata": {},
   "source": [
    "TODO list\n",
    "- [ ] $5 + 10 CHF = $10 if rate is 2:1\n",
    "- [x] $5 * 2 = $10\n",
    "- [ ] Make \"amount\" private\n",
    "- [x] Dollar side effect\n",
    "- [ ] Money rounding\n",
    "- [x] \\_\\_eq\\_\\_"
   ]
  },
  {
   "cell_type": "markdown",
   "metadata": {},
   "source": [
    "to further extend the equality,\n",
    "\n",
    "TODO list\n",
    "- [ ] $5 + 10 CHF = $10 if rate is 2:1\n",
    "- [x] $5 * 2 = $10\n",
    "- [ ] Make \"amount\" private\n",
    "- [x] Dollar side effect\n",
    "- [ ] Money rounding\n",
    "- [x] \\_\\_eq\\_\\_\n",
    "- [ ] equal null\n",
    "- [ ] equal object"
   ]
  }
 ],
 "metadata": {
  "kernelspec": {
   "display_name": "Python 3.8.3 32-bit",
   "language": "python",
   "name": "python3"
  },
  "language_info": {
   "codemirror_mode": {
    "name": "ipython",
    "version": 3
   },
   "file_extension": ".py",
   "mimetype": "text/x-python",
   "name": "python",
   "nbconvert_exporter": "python",
   "pygments_lexer": "ipython3",
   "version": "3.8.3"
  },
  "orig_nbformat": 4,
  "vscode": {
   "interpreter": {
    "hash": "939480ed579cbcc9bd95c0bb2f0a271d068ec362d36f1415ed941c7dadb52340"
   }
  }
 },
 "nbformat": 4,
 "nbformat_minor": 2
}
