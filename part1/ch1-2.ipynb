{
 "cells": [
  {
   "cell_type": "markdown",
   "metadata": {},
   "source": [
    "TDD\n",
    "1. quickly add test\n",
    "2. Run all tests and see the new one fail\n",
    "3. Make a littel change\n",
    "4. Run all tests and see them all succeed\n",
    "5. Refactor to remove duplication"
   ]
  },
  {
   "cell_type": "markdown",
   "metadata": {},
   "source": [
    "TODO list\n",
    "- [ ] $5 + 10 CHF = $10 if rate is 2:1\n",
    "- [ ] $5 * 2 = $10\n",
    "- [ ] Make \"amount\" private\n",
    "- [ ] Dollar side effect\n",
    "- [ ] Money rounding"
   ]
  },
  {
   "cell_type": "markdown",
   "metadata": {},
   "source": [
    "write test code for assignment `$5 * 2 = $10`"
   ]
  },
  {
   "cell_type": "code",
   "execution_count": 18,
   "metadata": {},
   "outputs": [
    {
     "name": "stderr",
     "output_type": "stream",
     "text": [
      "test_multiplication (__main__.TestMoneyExchange) ... ok\n",
      "\n",
      "----------------------------------------------------------------------\n",
      "Ran 1 test in 0.001s\n",
      "\n",
      "OK\n"
     ]
    },
    {
     "data": {
      "text/plain": [
       "<unittest.main.TestProgram at 0x760f628>"
      ]
     },
     "execution_count": 18,
     "metadata": {},
     "output_type": "execute_result"
    }
   ],
   "source": [
    "import unittest\n",
    "\n",
    "class TestMoneyExchange(unittest.TestCase):\n",
    "    def test_multiplication(self):\n",
    "        five = Dollar(5)\n",
    "        five.times(2)\n",
    "        self.assertEqual(10, five.amount)\n",
    "\n",
    "unittest.main(argv=[''], verbosity=2, exit=False)"
   ]
  },
  {
   "cell_type": "markdown",
   "metadata": {},
   "source": [
    "make a littel change and run the tests and succeed"
   ]
  },
  {
   "cell_type": "markdown",
   "metadata": {},
   "source": [
    "check list\n",
    "- No class Dollar\n",
    "- No constructor\n",
    "- No method times(int)\n",
    "- No field amount"
   ]
  },
  {
   "cell_type": "markdown",
   "metadata": {},
   "source": [
    "complete check list\n",
    "- [x] create class Collar\n",
    "- [x] create constructor\n",
    "- [x] create method times(int)\n",
    "- [x] create field amount"
   ]
  },
  {
   "cell_type": "code",
   "execution_count": 13,
   "metadata": {},
   "outputs": [],
   "source": [
    "class Dollar:\n",
    "    def __init__(self, amount: int):\n",
    "        self.amount = 10\n",
    "\n",
    "    def times(self, multiplier: int):\n",
    "        pass"
   ]
  },
  {
   "cell_type": "markdown",
   "metadata": {},
   "source": [
    "Refactor\n",
    "- substitue hard coded values with variables"
   ]
  },
  {
   "cell_type": "code",
   "execution_count": 15,
   "metadata": {},
   "outputs": [],
   "source": [
    "class Dollar:\n",
    "    def __init__(self, amount: int):\n",
    "        # self.amount = 5 * 2\n",
    "        pass\n",
    "\n",
    "    def times(self, multiplier: int):\n",
    "        self.amount = 5 * 2"
   ]
  },
  {
   "cell_type": "code",
   "execution_count": 16,
   "metadata": {},
   "outputs": [],
   "source": [
    "class Dollar:\n",
    "    def __init__(self, amount: int):\n",
    "        self.amount = amount\n",
    "\n",
    "    def times(self, multiplier: int):\n",
    "        self.amount *= 2"
   ]
  },
  {
   "cell_type": "code",
   "execution_count": 17,
   "metadata": {},
   "outputs": [],
   "source": [
    "class Dollar:\n",
    "    def __init__(self, amount: int):\n",
    "        self.amount = amount\n",
    "\n",
    "    def times(self, multiplier: int):\n",
    "        self.amount *= multiplier"
   ]
  },
  {
   "cell_type": "markdown",
   "metadata": {},
   "source": [
    "TODO list\n",
    "- [ ] $5 + 10 CHF = $10 if rate is 2:1\n",
    "- [x] $5 * 2 = $10\n",
    "- [ ] Make \"amount\" private\n",
    "- [ ] Dollar side effect\n",
    "- [ ] Money rounding"
   ]
  },
  {
   "cell_type": "markdown",
   "metadata": {},
   "source": [
    "write test code for checking `Dollar side effect` which fails at the moment"
   ]
  },
  {
   "cell_type": "code",
   "execution_count": 19,
   "metadata": {},
   "outputs": [
    {
     "name": "stderr",
     "output_type": "stream",
     "text": [
      "test_multiplication (__main__.TestMoneyExchange) ... FAIL\n",
      "\n",
      "======================================================================\n",
      "FAIL: test_multiplication (__main__.TestMoneyExchange)\n",
      "----------------------------------------------------------------------\n",
      "Traceback (most recent call last):\n",
      "  File \"C:\\Users\\Data-123\\AppData\\Local\\Temp\\ipykernel_32704\\4136620592.py\", line 9, in test_multiplication\n",
      "    self.assertEqual(15, five.amount)\n",
      "AssertionError: 15 != 30\n",
      "\n",
      "----------------------------------------------------------------------\n",
      "Ran 1 test in 0.001s\n",
      "\n",
      "FAILED (failures=1)\n"
     ]
    },
    {
     "data": {
      "text/plain": [
       "<unittest.main.TestProgram at 0x7604418>"
      ]
     },
     "execution_count": 19,
     "metadata": {},
     "output_type": "execute_result"
    }
   ],
   "source": [
    "import unittest\n",
    "\n",
    "class TestMoneyExchange(unittest.TestCase):\n",
    "    def test_multiplication(self):\n",
    "        five = Dollar(5)\n",
    "        five.times(2)\n",
    "        self.assertEqual(10, five.amount)\n",
    "        five.times(3)\n",
    "        self.assertEqual(15, five.amount)\n",
    "\n",
    "unittest.main(argv=[''], verbosity=2, exit=False)"
   ]
  },
  {
   "cell_type": "markdown",
   "metadata": {},
   "source": [
    "`times(int)` method changes the field value(side effect).\n",
    "\n",
    "=> return new object"
   ]
  },
  {
   "cell_type": "code",
   "execution_count": 22,
   "metadata": {},
   "outputs": [
    {
     "name": "stderr",
     "output_type": "stream",
     "text": [
      "test_multiplication (__main__.TestMoneyExchange) ... ok\n",
      "\n",
      "----------------------------------------------------------------------\n",
      "Ran 1 test in 0.001s\n",
      "\n",
      "OK\n"
     ]
    },
    {
     "data": {
      "text/plain": [
       "<unittest.main.TestProgram at 0x7625268>"
      ]
     },
     "execution_count": 22,
     "metadata": {},
     "output_type": "execute_result"
    }
   ],
   "source": [
    "import unittest\n",
    "\n",
    "class TestMoneyExchange(unittest.TestCase):\n",
    "    def test_multiplication(self):\n",
    "        five = Dollar(5)\n",
    "        product = five.times(2)\n",
    "        self.assertEqual(10, product.amount)\n",
    "        product = five.times(3)\n",
    "        self.assertEqual(15, product.amount)\n",
    "\n",
    "unittest.main(argv=[''], verbosity=2, exit=False)"
   ]
  },
  {
   "cell_type": "code",
   "execution_count": 21,
   "metadata": {},
   "outputs": [],
   "source": [
    "class Dollar:\n",
    "    def __init__(self, amount: int):\n",
    "        self.amount = amount\n",
    "\n",
    "    def times(self, multiplier: int):\n",
    "        return Dollar(self.amount * multiplier)"
   ]
  },
  {
   "cell_type": "markdown",
   "metadata": {},
   "source": [
    "TODO list\n",
    "- [ ] $5 + 10 CHF = $10 if rate is 2:1\n",
    "- [x] $5 * 2 = $10\n",
    "- [ ] Make \"amount\" private\n",
    "- [x] Dollar side effect\n",
    "- [ ] Money rounding"
   ]
  }
 ],
 "metadata": {
  "kernelspec": {
   "display_name": "Python 3.8.3 32-bit",
   "language": "python",
   "name": "python3"
  },
  "language_info": {
   "codemirror_mode": {
    "name": "ipython",
    "version": 3
   },
   "file_extension": ".py",
   "mimetype": "text/x-python",
   "name": "python",
   "nbconvert_exporter": "python",
   "pygments_lexer": "ipython3",
   "version": "3.8.3"
  },
  "orig_nbformat": 4,
  "vscode": {
   "interpreter": {
    "hash": "939480ed579cbcc9bd95c0bb2f0a271d068ec362d36f1415ed941c7dadb52340"
   }
  }
 },
 "nbformat": 4,
 "nbformat_minor": 2
}
