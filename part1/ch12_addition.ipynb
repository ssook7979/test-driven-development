{
 "cells": [
  {
   "cell_type": "code",
   "execution_count": 3,
   "metadata": {},
   "outputs": [
    {
     "ename": "NameError",
     "evalue": "name 'Money' is not defined",
     "output_type": "error",
     "traceback": [
      "\u001b[1;31m---------------------------------------------------------------------------\u001b[0m",
      "\u001b[1;31mNameError\u001b[0m                                 Traceback (most recent call last)",
      "\u001b[1;32md:\\personal\\study\\test-driven-development\\part1\\ch12_addition.ipynb 셀 1\u001b[0m in \u001b[0;36m<cell line: 1>\u001b[1;34m()\u001b[0m\n\u001b[1;32m----> <a href='vscode-notebook-cell:/d%3A/personal/study/test-driven-development/part1/ch12_addition.ipynb#W1sZmlsZQ%3D%3D?line=0'>1</a>\u001b[0m \u001b[39mclass\u001b[39;00m \u001b[39mMoney\u001b[39;00m:\n\u001b[0;32m      <a href='vscode-notebook-cell:/d%3A/personal/study/test-driven-development/part1/ch12_addition.ipynb#W1sZmlsZQ%3D%3D?line=1'>2</a>\u001b[0m     \u001b[39mdef\u001b[39;00m \u001b[39m__init__\u001b[39m(\u001b[39mself\u001b[39m, amount, currency):\n\u001b[0;32m      <a href='vscode-notebook-cell:/d%3A/personal/study/test-driven-development/part1/ch12_addition.ipynb#W1sZmlsZQ%3D%3D?line=2'>3</a>\u001b[0m         \u001b[39mself\u001b[39m\u001b[39m.\u001b[39m_amount \u001b[39m=\u001b[39m amount\n",
      "\u001b[1;32md:\\personal\\study\\test-driven-development\\part1\\ch12_addition.ipynb 셀 1\u001b[0m in \u001b[0;36mMoney\u001b[1;34m()\u001b[0m\n\u001b[0;32m     <a href='vscode-notebook-cell:/d%3A/personal/study/test-driven-development/part1/ch12_addition.ipynb#W1sZmlsZQ%3D%3D?line=36'>37</a>\u001b[0m \u001b[39m@currency\u001b[39m\u001b[39m.\u001b[39mgetter\n\u001b[0;32m     <a href='vscode-notebook-cell:/d%3A/personal/study/test-driven-development/part1/ch12_addition.ipynb#W1sZmlsZQ%3D%3D?line=37'>38</a>\u001b[0m \u001b[39mdef\u001b[39;00m \u001b[39mcurrency\u001b[39m(\u001b[39mself\u001b[39m):\n\u001b[0;32m     <a href='vscode-notebook-cell:/d%3A/personal/study/test-driven-development/part1/ch12_addition.ipynb#W1sZmlsZQ%3D%3D?line=38'>39</a>\u001b[0m     \u001b[39mreturn\u001b[39;00m \u001b[39mself\u001b[39m\u001b[39m.\u001b[39m_currency\n\u001b[1;32m---> <a href='vscode-notebook-cell:/d%3A/personal/study/test-driven-development/part1/ch12_addition.ipynb#W1sZmlsZQ%3D%3D?line=40'>41</a>\u001b[0m \u001b[39mdef\u001b[39;00m \u001b[39mplus\u001b[39m(\u001b[39mself\u001b[39m, addend: Money) \u001b[39m-\u001b[39m\u001b[39m>\u001b[39m Money:\n\u001b[0;32m     <a href='vscode-notebook-cell:/d%3A/personal/study/test-driven-development/part1/ch12_addition.ipynb#W1sZmlsZQ%3D%3D?line=41'>42</a>\u001b[0m     \u001b[39mreturn\u001b[39;00m Money(\u001b[39mself\u001b[39m\u001b[39m.\u001b[39mamount \u001b[39m+\u001b[39m addend\u001b[39m.\u001b[39mamount, \u001b[39mself\u001b[39m\u001b[39m.\u001b[39mcurrency)\n",
      "\u001b[1;31mNameError\u001b[0m: name 'Money' is not defined"
     ]
    }
   ],
   "source": [
    "class Money:\n",
    "    def __init__(self, amount, currency):\n",
    "        self._amount = amount\n",
    "        self._currency = currency\n",
    "\n",
    "    @property\n",
    "    def amount(self):\n",
    "        return self._amount\n",
    "\n",
    "    @property\n",
    "    def currency(self):\n",
    "        return self._currency\n",
    "\n",
    "    @amount.setter\n",
    "    def amount(self, amount: int):\n",
    "        self._amount = amount\n",
    "\n",
    "    @amount.deleter\n",
    "    def amount(self):\n",
    "        del self._amount\n",
    "\n",
    "    def __eq__(self, o):\n",
    "        return self._amount == o.amount \\\n",
    "            and self.currency == o.currency\n",
    "\n",
    "    @staticmethod\n",
    "    def dollar(amount: int):\n",
    "        return Money(amount, \"USD\")\n",
    "\n",
    "    @staticmethod\n",
    "    def franc(amount: int):\n",
    "        return Money(amount, \"CHF\")\n",
    "    \n",
    "    def times(self, multiplier: int):\n",
    "        return Money(self.amount * multiplier, self.currency)\n",
    "    \n",
    "    @currency.getter\n",
    "    def currency(self):\n",
    "        return self._currency\n",
    "\n",
    "    def plus(self, addend: Money) -> Money:\n",
    "        return Money(self.amount + addend.amount, self.currency)"
   ]
  },
  {
   "cell_type": "code",
   "execution_count": null,
   "metadata": {},
   "outputs": [],
   "source": [
    "import unittest\n",
    "\n",
    "class TestMoneyExchange(unittest.TestCase):\n",
    "    def test_multiplication(self):\n",
    "        five: Money = Money.dollar(5)\n",
    "        self.assertEqual(Money.dollar(10), five.times(2))\n",
    "        self.assertEqual(Money.dollar(15), five.times(3))\n",
    "\n",
    "    def test_currency(self):\n",
    "        self.assertEqual(\"USD\", Money.dollar(1).currency)\n",
    "        self.assertEqual(\"CHF\", Money.franc(1).currency)\n",
    "    \n",
    "    def test_equality(self):\n",
    "        self.assertTrue(Money.dollar(5) == Money.dollar(5))\n",
    "        self.assertFalse(Money.dollar(5) == Money.dollar(6))\n",
    "        self.assertTrue(Money.franc(5) == Money.franc(5))\n",
    "        self.assertFalse(Money.franc(5) == Money.franc(6))\n",
    "        self.assertFalse(Money.franc(5) == Money.dollar(5))\n",
    "\n",
    "    def test_different_class_equality(self):\n",
    "        self.assertTrue(Money.franc(10) == Money.franc(10))\n",
    "    \n",
    "    def test_simple_addition(self):\n",
    "        sum: Money = Money.dollar(5).plus(Money.dollar(5))\n",
    "        assertEqual(Money.dollar(10), sum)\n",
    "\n",
    "unittest.main(argv=[''], verbosity=2, exit=False)"
   ]
  },
  {
   "cell_type": "markdown",
   "metadata": {},
   "source": [
    "The solution is to create an object that acts like a Money but represents the sum of two\n",
    "Moneys.\n",
    "\n",
    "One is to treat the sum\n",
    "like a wallet: you can have several different notes of different denominations and currencies\n",
    "in the same wallet.\n",
    "\n",
    "Money is the atomic form of an expression. Operations result in Expressions.\n",
    "\n",
    "Once the operation (such as adding up the value of a portfolio) is complete, the\n",
    "resulting Expression can be reduced back to a single currency given a set of exchange rates."
   ]
  },
  {
   "cell_type": "markdown",
   "metadata": {},
   "source": [
    "```\n",
    "def test_simple_addition():\n",
    "    five: Money = Money.dollar()\n",
    "    sum: Expression = five.plus(five)\n",
    "    bank: Bank = Bank()\n",
    "    reduced: Money = bank.reduce(sum, \"USD\")\n",
    "    assertEqual(Money.dollar(10), reduced)\n",
    "```"
   ]
  },
  {
   "cell_type": "code",
   "execution_count": 5,
   "metadata": {},
   "outputs": [],
   "source": [
    "class Money: pass"
   ]
  },
  {
   "cell_type": "code",
   "execution_count": 7,
   "metadata": {},
   "outputs": [],
   "source": [
    "import abc\n",
    "\n",
    "class Expression(abc.ABC):\n",
    "    def plus(self, addend: Money) -> Money:\n",
    "        return Money(self.amount + addend.amount, self.currency)\n",
    "\n",
    "class Bank:\n",
    "    def reduce(self, source: Expression, to: str) -> Money:\n",
    "        return Money.dollar(10)\n",
    "\n",
    "class Money(Expression):\n",
    "    def __init__(self, amount, currency):\n",
    "        self._amount = amount\n",
    "        self._currency = currency\n",
    "\n",
    "    @property\n",
    "    def amount(self):\n",
    "        return self._amount\n",
    "\n",
    "    @property\n",
    "    def currency(self):\n",
    "        return self._currency\n",
    "\n",
    "    @amount.setter\n",
    "    def amount(self, amount: int):\n",
    "        self._amount = amount\n",
    "\n",
    "    @amount.deleter\n",
    "    def amount(self):\n",
    "        del self._amount\n",
    "\n",
    "    def __eq__(self, o):\n",
    "        return self._amount == o.amount \\\n",
    "            and self.currency == o.currency\n",
    "\n",
    "    @staticmethod\n",
    "    def dollar(amount: int):\n",
    "        return Money(amount, \"USD\")\n",
    "\n",
    "    @staticmethod\n",
    "    def franc(amount: int):\n",
    "        return Money(amount, \"CHF\")\n",
    "    \n",
    "    def times(self, multiplier: int):\n",
    "        return Money(self.amount * multiplier, self.currency)\n",
    "    \n",
    "    @currency.getter\n",
    "    def currency(self):\n",
    "        return self._currency\n",
    "\n",
    "    def plus(self, addend: Money) -> Money:\n",
    "        return Money(self.amount + addend.amount, self.currency)"
   ]
  },
  {
   "cell_type": "code",
   "execution_count": 11,
   "metadata": {},
   "outputs": [
    {
     "name": "stderr",
     "output_type": "stream",
     "text": [
      "test_simple_addition (__main__.TestMoneyExchange) ... ok\n",
      "\n",
      "----------------------------------------------------------------------\n",
      "Ran 1 test in 0.002s\n",
      "\n",
      "OK\n"
     ]
    },
    {
     "data": {
      "text/plain": [
       "<unittest.main.TestProgram at 0xb54d30>"
      ]
     },
     "execution_count": 11,
     "metadata": {},
     "output_type": "execute_result"
    }
   ],
   "source": [
    "import unittest\n",
    "\n",
    "class TestMoneyExchange(unittest.TestCase):\n",
    "    def test_simple_addition(self):\n",
    "        five: Money = Money.dollar(5)\n",
    "        sum: Expression = five.plus(five)\n",
    "        bank: Bank = Bank()\n",
    "        reduced: Money = bank.reduce(sum, \"USD\")\n",
    "        self.assertEqual(Money.dollar(10), reduced)\n",
    "\n",
    "unittest.main(argv=[''], verbosity=2, exit=False)"
   ]
  }
 ],
 "metadata": {
  "kernelspec": {
   "display_name": "Python 3.8.3 32-bit",
   "language": "python",
   "name": "python3"
  },
  "language_info": {
   "codemirror_mode": {
    "name": "ipython",
    "version": 3
   },
   "file_extension": ".py",
   "mimetype": "text/x-python",
   "name": "python",
   "nbconvert_exporter": "python",
   "pygments_lexer": "ipython3",
   "version": "3.8.3"
  },
  "orig_nbformat": 4,
  "vscode": {
   "interpreter": {
    "hash": "939480ed579cbcc9bd95c0bb2f0a271d068ec362d36f1415ed941c7dadb52340"
   }
  }
 },
 "nbformat": 4,
 "nbformat_minor": 2
}
