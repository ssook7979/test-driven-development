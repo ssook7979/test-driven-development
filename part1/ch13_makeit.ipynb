{
 "cells": [
  {
   "cell_type": "markdown",
   "metadata": {},
   "source": [
    "replacing fake implementation with variables"
   ]
  },
  {
   "cell_type": "code",
   "execution_count": 11,
   "metadata": {},
   "outputs": [],
   "source": [
    "class Money: pass\n",
    "\n",
    "class Sum:\n",
    "    def __init__(self, augend: Money, addend: Money):\n",
    "        self.augend = augend\n",
    "        self.addend = addend"
   ]
  },
  {
   "cell_type": "code",
   "execution_count": 20,
   "metadata": {},
   "outputs": [],
   "source": [
    "import abc\n",
    "\n",
    "class Money: pass\n",
    "\n",
    "class Expression(abc.ABC):\n",
    "    def plus(self, addend: Money) -> Money:\n",
    "        return Money(self.amount + addend.amount, self.currency)\n",
    "    \n",
    "    @abc.abstractmethod\n",
    "    def reduce(self, to: str) -> Money: pass\n",
    "\n",
    "class Sum(Expression):\n",
    "    def __init__(self, augend: Money, addend: Money):\n",
    "        self.augend = augend\n",
    "        self.addend = addend\n",
    "    \n",
    "    def reduce(self, to: str):\n",
    "        amount: int = self.augend.amount + self.addend.amount\n",
    "        return Money(amount, to)\n",
    "\n",
    "class Bank:\n",
    "    def reduce(self, source: Expression, to: str) -> Money:\n",
    "        # amount: int = source.augend.amount + source.addend.amount # move complex method into Sum class\n",
    "        # if type(source) == Money: return source.reduce(to) # create reduce method in Expression and Money to remove type check\n",
    "        return source.reduce(to)\n",
    "\n",
    "class Money(Expression):\n",
    "    def __init__(self, amount, currency):\n",
    "        self._amount = amount\n",
    "        self._currency = currency\n",
    "\n",
    "    @property\n",
    "    def amount(self):\n",
    "        return self._amount\n",
    "\n",
    "    @property\n",
    "    def currency(self):\n",
    "        return self._currency\n",
    "\n",
    "    @amount.setter\n",
    "    def amount(self, amount: int):\n",
    "        self._amount = amount\n",
    "\n",
    "    @amount.deleter\n",
    "    def amount(self):\n",
    "        del self._amount\n",
    "\n",
    "    def __eq__(self, o):\n",
    "        return self._amount == o.amount \\\n",
    "            and self.currency == o.currency\n",
    "\n",
    "    @staticmethod\n",
    "    def dollar(amount: int):\n",
    "        return Money(amount, \"USD\")\n",
    "\n",
    "    @staticmethod\n",
    "    def franc(amount: int):\n",
    "        return Money(amount, \"CHF\")\n",
    "    \n",
    "    def times(self, multiplier: int):\n",
    "        return Money(self.amount * multiplier, self.currency)\n",
    "    \n",
    "    @currency.getter\n",
    "    def currency(self):\n",
    "        return self._currency\n",
    "\n",
    "    def plus(self, addend: Money) -> Expression:\n",
    "        return Sum(self, addend)\n",
    "\n",
    "    def reduce(self, to:str) -> Money:\n",
    "        return self"
   ]
  },
  {
   "cell_type": "code",
   "execution_count": 21,
   "metadata": {},
   "outputs": [
    {
     "name": "stderr",
     "output_type": "stream",
     "text": [
      "test_currency (__main__.TestMoneyExchange) ... ok\n",
      "test_different_class_equality (__main__.TestMoneyExchange) ... ok\n",
      "test_equality (__main__.TestMoneyExchange) ... ok\n",
      "test_multiplication (__main__.TestMoneyExchange) ... ok\n",
      "test_reduce_money (__main__.TestMoneyExchange) ... ok\n",
      "test_simple_addition (__main__.TestMoneyExchange) ... "
     ]
    },
    {
     "name": "stdout",
     "output_type": "stream",
     "text": [
      "1 USD\n"
     ]
    },
    {
     "name": "stderr",
     "output_type": "stream",
     "text": [
      "ok\n",
      "\n",
      "----------------------------------------------------------------------\n",
      "Ran 6 tests in 0.004s\n",
      "\n",
      "OK\n"
     ]
    },
    {
     "data": {
      "text/plain": [
       "<unittest.main.TestProgram at 0x15c5958>"
      ]
     },
     "execution_count": 21,
     "metadata": {},
     "output_type": "execute_result"
    }
   ],
   "source": [
    "import unittest\n",
    "\n",
    "class TestMoneyExchange(unittest.TestCase):\n",
    "    def test_multiplication(self):\n",
    "        five: Money = Money.dollar(5)\n",
    "        self.assertEqual(Money.dollar(10), five.times(2))\n",
    "        self.assertEqual(Money.dollar(15), five.times(3))\n",
    "\n",
    "    def test_currency(self):\n",
    "        self.assertEqual(\"USD\", Money.dollar(1).currency)\n",
    "        self.assertEqual(\"CHF\", Money.franc(1).currency)\n",
    "    \n",
    "    def test_equality(self):\n",
    "        self.assertTrue(Money.dollar(5) == Money.dollar(5))\n",
    "        self.assertFalse(Money.dollar(5) == Money.dollar(6))\n",
    "        self.assertTrue(Money.franc(5) == Money.franc(5))\n",
    "        self.assertFalse(Money.franc(5) == Money.franc(6))\n",
    "        self.assertFalse(Money.franc(5) == Money.dollar(5))\n",
    "\n",
    "    def test_different_class_equality(self):\n",
    "        self.assertTrue(Money.franc(10) == Money.franc(10))\n",
    "    \n",
    "    def test_simple_addition(self):\n",
    "        five: Money = Money.dollar(5)\n",
    "        sum: Expression = five.plus(five)\n",
    "        bank: Bank = Bank()\n",
    "        reduced: Money = bank.reduce(sum, \"USD\")\n",
    "        self.assertEqual(Money.dollar(10), reduced)\n",
    "    \n",
    "    def test_reduce_money(self):\n",
    "        bank: Bank = Bank()\n",
    "        result: Money = bank.reduce(Money.dollar(1), \"USD\")\n",
    "        self.assertEqual(Money.dollar(1), result)\n",
    "\n",
    "unittest.main(argv=[''], verbosity=2, exit=False)"
   ]
  },
  {
   "cell_type": "markdown",
   "metadata": {},
   "source": [
    "The solution is to create an object that acts like a Money but represents the sum of two\n",
    "Moneys.\n",
    "\n",
    "One is to treat the sum\n",
    "like a wallet: you can have several different notes of different denominations and currencies\n",
    "in the same wallet.\n",
    "\n",
    "Money is the atomic form of an expression. Operations result in Expressions.\n",
    "\n",
    "Once the operation (such as adding up the value of a portfolio) is complete, the\n",
    "resulting Expression can be reduced back to a single currency given a set of exchange rates."
   ]
  },
  {
   "cell_type": "markdown",
   "metadata": {},
   "source": [
    "```\n",
    "def test_simple_addition():\n",
    "    five: Money = Money.dollar()\n",
    "    sum: Expression = five.plus(five)\n",
    "    bank: Bank = Bank()\n",
    "    reduced: Money = bank.reduce(sum, \"USD\")\n",
    "    assertEqual(Money.dollar(10), reduced)\n",
    "```"
   ]
  },
  {
   "cell_type": "code",
   "execution_count": 14,
   "metadata": {},
   "outputs": [],
   "source": [
    "class Money: pass"
   ]
  },
  {
   "cell_type": "code",
   "execution_count": 15,
   "metadata": {},
   "outputs": [],
   "source": [
    "import abc\n",
    "\n",
    "class Expression(abc.ABC):\n",
    "    def plus(self, addend: Money) -> Money:\n",
    "        return Money(self.amount + addend.amount, self.currency)\n",
    "\n",
    "class Bank:\n",
    "    def reduce(self, source: Expression, to: str) -> Money:\n",
    "        return Money.dollar(10)\n",
    "\n",
    "class Money(Expression):\n",
    "    def __init__(self, amount, currency):\n",
    "        self._amount = amount\n",
    "        self._currency = currency\n",
    "\n",
    "    @property\n",
    "    def amount(self):\n",
    "        return self._amount\n",
    "\n",
    "    @property\n",
    "    def currency(self):\n",
    "        return self._currency\n",
    "\n",
    "    @amount.setter\n",
    "    def amount(self, amount: int):\n",
    "        self._amount = amount\n",
    "\n",
    "    @amount.deleter\n",
    "    def amount(self):\n",
    "        del self._amount\n",
    "\n",
    "    def __eq__(self, o):\n",
    "        return self._amount == o.amount \\\n",
    "            and self.currency == o.currency\n",
    "\n",
    "    @staticmethod\n",
    "    def dollar(amount: int):\n",
    "        return Money(amount, \"USD\")\n",
    "\n",
    "    @staticmethod\n",
    "    def franc(amount: int):\n",
    "        return Money(amount, \"CHF\")\n",
    "    \n",
    "    def times(self, multiplier: int):\n",
    "        return Money(self.amount * multiplier, self.currency)\n",
    "    \n",
    "    @currency.getter\n",
    "    def currency(self):\n",
    "        return self._currency\n",
    "\n",
    "    def plus(self, addend: Money) -> Money:\n",
    "        return Money(self.amount + addend.amount, self.currency)"
   ]
  },
  {
   "cell_type": "code",
   "execution_count": 16,
   "metadata": {},
   "outputs": [
    {
     "name": "stderr",
     "output_type": "stream",
     "text": [
      "test_simple_addition (__main__.TestMoneyExchange) ... ok\n",
      "\n",
      "----------------------------------------------------------------------\n",
      "Ran 1 test in 0.001s\n",
      "\n",
      "OK\n"
     ]
    },
    {
     "data": {
      "text/plain": [
       "<unittest.main.TestProgram at 0x6fd0ee0>"
      ]
     },
     "execution_count": 16,
     "metadata": {},
     "output_type": "execute_result"
    }
   ],
   "source": [
    "import unittest\n",
    "\n",
    "class TestMoneyExchange(unittest.TestCase):\n",
    "    def test_simple_addition(self):\n",
    "        five: Money = Money.dollar(5)\n",
    "        sum: Expression = five.plus(five)\n",
    "        bank: Bank = Bank()\n",
    "        reduced: Money = bank.reduce(sum, \"USD\")\n",
    "        self.assertEqual(Money.dollar(10), reduced)\n",
    "\n",
    "unittest.main(argv=[''], verbosity=2, exit=False)"
   ]
  }
 ],
 "metadata": {
  "kernelspec": {
   "display_name": "Python 3.8.3 32-bit",
   "language": "python",
   "name": "python3"
  },
  "language_info": {
   "codemirror_mode": {
    "name": "ipython",
    "version": 3
   },
   "file_extension": ".py",
   "mimetype": "text/x-python",
   "name": "python",
   "nbconvert_exporter": "python",
   "pygments_lexer": "ipython3",
   "version": "3.8.3"
  },
  "orig_nbformat": 4,
  "vscode": {
   "interpreter": {
    "hash": "939480ed579cbcc9bd95c0bb2f0a271d068ec362d36f1415ed941c7dadb52340"
   }
  }
 },
 "nbformat": 4,
 "nbformat_minor": 2
}
